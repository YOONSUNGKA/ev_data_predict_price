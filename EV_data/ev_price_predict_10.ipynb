{
 "cells": [
  {
   "cell_type": "code",
   "execution_count": 1,
   "metadata": {},
   "outputs": [],
   "source": [
    "# 1. 라이브러리 임포트\n",
    "import pandas as pd\n",
    "import numpy as np\n",
    "from sklearn.model_selection import train_test_split\n",
    "from sklearn.preprocessing import StandardScaler\n",
    "from sklearn.metrics import mean_squared_error\n",
    "from sklearn.linear_model import LinearRegression, Ridge, Lasso, ElasticNet\n",
    "from sklearn.ensemble import RandomForestRegressor, GradientBoostingRegressor, ExtraTreesRegressor, AdaBoostRegressor\n",
    "from sklearn.svm import SVR\n",
    "from xgboost import XGBRegressor\n",
    "from catboost import CatBoostRegressor\n",
    "from lightgbm import LGBMRegressor\n",
    "from scipy.optimize import minimize\n",
    "import tensorflow as tf\n",
    "from tensorflow.keras.models import Sequential\n",
    "from tensorflow.keras.layers import Dense, Dropout, BatchNormalization\n",
    "from tensorflow.keras.regularizers import l2"
   ]
  },
  {
   "cell_type": "code",
   "execution_count": 3,
   "metadata": {},
   "outputs": [],
   "source": [
    "# 1. 데이터 로드\n",
    "train = pd.read_csv(\"train.csv\")\n",
    "test = pd.read_csv(\"test.csv\")\n",
    "submission = pd.read_csv(\"sample_submission.csv\")"
   ]
  },
  {
   "cell_type": "code",
   "execution_count": 4,
   "metadata": {},
   "outputs": [],
   "source": [
    "# 3. 데이터 전처리\n",
    "X = train.drop(['가격(백만원)', 'ID'], axis=1)\n",
    "y = train['가격(백만원)']\n",
    "\n",
    "# 결측치 처리\n",
    "X['배터리용량'] = X['배터리용량'].fillna(X['배터리용량'].median())\n",
    "test['배터리용량'] = test['배터리용량'].fillna(test['배터리용량'].median())\n",
    "\n",
    "# 파생 변수 추가\n",
    "X['에너지효율'] = X['배터리용량'] / (X['주행거리(km)'] + 1e-5)\n",
    "X['차량나이'] = 2025 - X['연식(년)']\n",
    "test['에너지효율'] = test['배터리용량'] / (test['주행거리(km)'] + 1e-5)\n",
    "test['차량나이'] = 2025 - test['연식(년)']\n",
    "\n",
    "# 원-핫 인코딩\n",
    "X = pd.get_dummies(X, columns=['제조사', '모델', '차량상태', '구동방식', '사고이력'])\n",
    "X_test = pd.get_dummies(test.drop(['ID'], axis=1), columns=['제조사', '모델', '차량상태', '구동방식', '사고이력'])\n",
    "X_test = X_test.reindex(columns=X.columns, fill_value=0)\n",
    "\n",
    "# 데이터 분할\n",
    "X_train, X_val, y_train, y_val = train_test_split(X, y, test_size=0.2, random_state=42)\n",
    "\n",
    "# 데이터 스케일링\n",
    "scaler = StandardScaler()\n",
    "X_train = scaler.fit_transform(X_train)\n",
    "X_val = scaler.transform(X_val)\n",
    "X_test = scaler.transform(X_test)"
   ]
  },
  {
   "cell_type": "code",
   "execution_count": 5,
   "metadata": {},
   "outputs": [],
   "source": [
    "# 4. 머신러닝 모델 정의\n",
    "models = {\n",
    "    \"XGBoost\": XGBRegressor(n_estimators=1000, learning_rate=0.01, max_depth=8, random_state=42),\n",
    "    \"CatBoost\": CatBoostRegressor(iterations=1000, learning_rate=0.01, depth=8, loss_function='RMSE', verbose=0, random_state=42),\n",
    "    \"LightGBM\": LGBMRegressor(n_estimators=1000, learning_rate=0.01, max_depth=8, random_state=42),\n",
    "    \"Random Forest\": RandomForestRegressor(n_estimators=500, random_state=42),\n",
    "    \"Extra Trees\": ExtraTreesRegressor(n_estimators=500, random_state=42),\n",
    "    \"Gradient Boosting\": GradientBoostingRegressor(n_estimators=500, learning_rate=0.05, random_state=42),\n",
    "}"
   ]
  },
  {
   "cell_type": "code",
   "execution_count": 6,
   "metadata": {},
   "outputs": [
    {
     "name": "stdout",
     "output_type": "stream",
     "text": [
      "Training XGBoost...\n",
      "XGBoost RMSE: 1.6297\n",
      "Training CatBoost...\n",
      "CatBoost RMSE: 1.6484\n",
      "Training LightGBM...\n",
      "[LightGBM] [Info] Auto-choosing row-wise multi-threading, the overhead of testing was 0.001947 seconds.\n",
      "You can set `force_row_wise=true` to remove the overhead.\n",
      "And if memory is not enough, you can set `force_col_wise=true`.\n",
      "[LightGBM] [Info] Total Bins 737\n",
      "[LightGBM] [Info] Number of data points in the train set: 5997, number of used features: 42\n",
      "[LightGBM] [Info] Start training from score 62.221487\n",
      "[LightGBM] [Warning] No further splits with positive gain, best gain: -inf\n",
      "[LightGBM] [Warning] No further splits with positive gain, best gain: -inf\n",
      "[LightGBM] [Warning] No further splits with positive gain, best gain: -inf\n",
      "[LightGBM] [Warning] No further splits with positive gain, best gain: -inf\n",
      "[LightGBM] [Warning] No further splits with positive gain, best gain: -inf\n",
      "[LightGBM] [Warning] No further splits with positive gain, best gain: -inf\n",
      "[LightGBM] [Warning] No further splits with positive gain, best gain: -inf\n",
      "[LightGBM] [Warning] No further splits with positive gain, best gain: -inf\n",
      "[LightGBM] [Warning] No further splits with positive gain, best gain: -inf\n",
      "[LightGBM] [Warning] No further splits with positive gain, best gain: -inf\n",
      "[LightGBM] [Warning] No further splits with positive gain, best gain: -inf\n",
      "[LightGBM] [Warning] No further splits with positive gain, best gain: -inf\n",
      "[LightGBM] [Warning] No further splits with positive gain, best gain: -inf\n",
      "[LightGBM] [Warning] No further splits with positive gain, best gain: -inf\n",
      "[LightGBM] [Warning] No further splits with positive gain, best gain: -inf\n",
      "[LightGBM] [Warning] No further splits with positive gain, best gain: -inf\n",
      "[LightGBM] [Warning] No further splits with positive gain, best gain: -inf\n",
      "[LightGBM] [Warning] No further splits with positive gain, best gain: -inf\n",
      "[LightGBM] [Warning] No further splits with positive gain, best gain: -inf\n",
      "[LightGBM] [Warning] No further splits with positive gain, best gain: -inf\n",
      "[LightGBM] [Warning] No further splits with positive gain, best gain: -inf\n",
      "[LightGBM] [Warning] No further splits with positive gain, best gain: -inf\n",
      "[LightGBM] [Warning] No further splits with positive gain, best gain: -inf\n",
      "[LightGBM] [Warning] No further splits with positive gain, best gain: -inf\n",
      "[LightGBM] [Warning] No further splits with positive gain, best gain: -inf\n",
      "[LightGBM] [Warning] No further splits with positive gain, best gain: -inf\n",
      "[LightGBM] [Warning] No further splits with positive gain, best gain: -inf\n",
      "[LightGBM] [Warning] No further splits with positive gain, best gain: -inf\n",
      "[LightGBM] [Warning] No further splits with positive gain, best gain: -inf\n",
      "[LightGBM] [Warning] No further splits with positive gain, best gain: -inf\n",
      "[LightGBM] [Warning] No further splits with positive gain, best gain: -inf\n",
      "[LightGBM] [Warning] No further splits with positive gain, best gain: -inf\n",
      "[LightGBM] [Warning] No further splits with positive gain, best gain: -inf\n",
      "[LightGBM] [Warning] No further splits with positive gain, best gain: -inf\n",
      "[LightGBM] [Warning] No further splits with positive gain, best gain: -inf\n",
      "[LightGBM] [Warning] No further splits with positive gain, best gain: -inf\n",
      "[LightGBM] [Warning] No further splits with positive gain, best gain: -inf\n",
      "[LightGBM] [Warning] No further splits with positive gain, best gain: -inf\n",
      "[LightGBM] [Warning] No further splits with positive gain, best gain: -inf\n",
      "[LightGBM] [Warning] No further splits with positive gain, best gain: -inf\n",
      "[LightGBM] [Warning] No further splits with positive gain, best gain: -inf\n",
      "[LightGBM] [Warning] No further splits with positive gain, best gain: -inf\n",
      "[LightGBM] [Warning] No further splits with positive gain, best gain: -inf\n",
      "[LightGBM] [Warning] No further splits with positive gain, best gain: -inf\n",
      "[LightGBM] [Warning] No further splits with positive gain, best gain: -inf\n",
      "[LightGBM] [Warning] No further splits with positive gain, best gain: -inf\n",
      "[LightGBM] [Warning] No further splits with positive gain, best gain: -inf\n",
      "[LightGBM] [Warning] No further splits with positive gain, best gain: -inf\n",
      "[LightGBM] [Warning] No further splits with positive gain, best gain: -inf\n",
      "[LightGBM] [Warning] No further splits with positive gain, best gain: -inf\n",
      "[LightGBM] [Warning] No further splits with positive gain, best gain: -inf\n",
      "LightGBM RMSE: 1.3639\n",
      "Training Random Forest...\n",
      "Random Forest RMSE: 1.5423\n",
      "Training Extra Trees...\n",
      "Extra Trees RMSE: 1.6601\n",
      "Training Gradient Boosting...\n",
      "Gradient Boosting RMSE: 1.6498\n"
     ]
    }
   ],
   "source": [
    "# 5. 모델 학습 및 성능 평가\n",
    "predictions = {}\n",
    "rmses = {}\n",
    "\n",
    "for name, model in models.items():\n",
    "    print(f\"Training {name}...\")\n",
    "    model.fit(X_train, y_train)\n",
    "    pred = model.predict(X_val)\n",
    "    rmse = np.sqrt(mean_squared_error(y_val, pred))\n",
    "    predictions[name] = pred\n",
    "    rmses[name] = rmse\n",
    "    print(f\"{name} RMSE: {rmse:.4f}\")"
   ]
  },
  {
   "cell_type": "code",
   "execution_count": 7,
   "metadata": {},
   "outputs": [
    {
     "name": "stdout",
     "output_type": "stream",
     "text": [
      "Optimal Weights: [1.69115714e-01 1.54240478e-17 8.30884286e-01 2.30881074e-21\n",
      " 4.08639070e-23 2.29845191e-17]\n"
     ]
    }
   ],
   "source": [
    "# 6. 최적 가중치 탐색\n",
    "def objective(weights):\n",
    "    weighted_preds = sum(weights[i] * list(predictions.values())[i] for i in range(len(weights)))\n",
    "    return np.sqrt(mean_squared_error(y_val, weighted_preds))\n",
    "\n",
    "initial_weights = [1/len(models)] * len(models)\n",
    "constraints = ({'type': 'eq', 'fun': lambda w: 1 - sum(w)})\n",
    "bounds = [(0, 1)] * len(models)\n",
    "\n",
    "result = minimize(objective, initial_weights, method='SLSQP', bounds=bounds, constraints=constraints)\n",
    "optimal_weights = result.x\n",
    "print(f\"Optimal Weights: {optimal_weights}\")"
   ]
  },
  {
   "cell_type": "code",
   "execution_count": 8,
   "metadata": {},
   "outputs": [
    {
     "name": "stdout",
     "output_type": "stream",
     "text": [
      "Validation RMSE (Optimal Weighted Ensemble): 1.3910\n"
     ]
    }
   ],
   "source": [
    "# 7. 앙상블 예측\n",
    "ensemble_pred = sum(optimal_weights[i] * list(predictions.values())[i] for i in range(len(models)))\n",
    "ensemble_rmse = np.sqrt(mean_squared_error(y_val, ensemble_pred))\n",
    "print(f\"Validation RMSE (Optimal Weighted Ensemble): {ensemble_rmse:.4f}\")"
   ]
  },
  {
   "cell_type": "code",
   "execution_count": 9,
   "metadata": {},
   "outputs": [
    {
     "name": "stdout",
     "output_type": "stream",
     "text": [
      "Predicted results saved to: predicted_submission_10.csv\n"
     ]
    }
   ],
   "source": [
    "# 8. 테스트 데이터 예측\n",
    "final_test_pred = sum(optimal_weights[i] * models[name].predict(X_test) for i, name in enumerate(models.keys()))\n",
    "\n",
    "# 결과 값 클리핑\n",
    "lower_bound = y.min()\n",
    "upper_bound = y.max()\n",
    "final_test_pred = np.clip(final_test_pred, lower_bound, upper_bound)\n",
    "\n",
    "# 제출 파일 생성\n",
    "submission['가격(백만원)'] = final_test_pred\n",
    "submission.to_csv(\"predicted_submission_10.csv\", index=False)\n",
    "print(\"Predicted results saved to: predicted_submission_10.csv\")"
   ]
  },
  {
   "cell_type": "code",
   "execution_count": null,
   "metadata": {},
   "outputs": [],
   "source": []
  }
 ],
 "metadata": {
  "kernelspec": {
   "display_name": "apple_tf",
   "language": "python",
   "name": "python3"
  },
  "language_info": {
   "codemirror_mode": {
    "name": "ipython",
    "version": 3
   },
   "file_extension": ".py",
   "mimetype": "text/x-python",
   "name": "python",
   "nbconvert_exporter": "python",
   "pygments_lexer": "ipython3",
   "version": "3.9.21"
  }
 },
 "nbformat": 4,
 "nbformat_minor": 2
}
